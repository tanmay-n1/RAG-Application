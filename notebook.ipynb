{
 "cells": [
  {
   "cell_type": "code",
   "execution_count": 32,
   "metadata": {},
   "outputs": [],
   "source": [
    "# MODEL = \"llama3.2:latest\"\n",
    "MODEL = \"mistral:latest\""
   ]
  },
  {
   "cell_type": "code",
   "execution_count": 18,
   "metadata": {},
   "outputs": [
    {
     "name": "stdout",
     "output_type": "stream",
     "text": [
      "Hello World\n"
     ]
    }
   ],
   "source": [
    "import os\n",
    "from dotenv import load_dotenv\n",
    "load_dotenv()\n",
    "\n",
    "test = os.getenv(\"TEST\")\n",
    "print(test)\n"
   ]
  },
  {
   "cell_type": "code",
   "execution_count": 21,
   "metadata": {},
   "outputs": [
    {
     "data": {
      "text/plain": [
       "'The capital of India is New Delhi.'"
      ]
     },
     "execution_count": 21,
     "metadata": {},
     "output_type": "execute_result"
    }
   ],
   "source": [
    "from langchain_community.llms import Ollama\n",
    "from langchain_community.embeddings import OllamaEmbeddings\n",
    "\n",
    "model = Ollama(model= MODEL)\n",
    "\n",
    "model.invoke(\"What is the capital of India?\")"
   ]
  },
  {
   "cell_type": "code",
   "execution_count": 25,
   "metadata": {},
   "outputs": [
    {
     "data": {
      "text/plain": [
       "[Document(metadata={'producer': 'Adobe Acrobat 7.0 Paper Capture Plug-in', 'creator': 'Adobe Acrobat 7.0', 'creationdate': '2007-05-03T12:38:10-04:00', 'moddate': '2007-05-03T12:52:41-04:00', 'source': 'MonopolyRules.pdf', 'total_pages': 8, 'page': 0, 'page_label': '1'}, page_content='MONOPOLY \\nProperty Trading Game from Parker Brothers\" \\nAGES 8+ \\n2 to 8 Players \\nContents: Gameboard, 3 dice, tokens, 32 houses, I2 hotels, Chance \\nand Community Chest cards, Title Deed cards, play money and a Banker\\'s tray. \\nNow there\\'s a faster way to play MONOPOLY. Choose to play by \\nthe classic rules for buying, renting and selling properties or use the \\nSpeed Die to get into the action faster. If you\\'ve never played the classic \\nMONOPOLY game, refer to the Classic Rules beginning on the next page. \\nIf you already know how to play and want to use the Speed Die, just \\nread the section below for the additional Speed Die rules. \\nSPEED DIE RULES \\nLearnins how to Play with the S~eed Die IS as \\n/ \\nfast as playing with i\\'t. \\n1. When starting the game, hand out an extra $1,000 to each player \\n(two $5005 should work). The game moves fast and you\\'ll need \\nthe extra cash to buy and build. \\n2. Do not use the Speed Die until you\\'ve landed on or passed over \\nGO for the first time. Once you collect that first $200 salary, you\\'ll \\nuse the Speed Die for the rest of the game. This means that some \\nplayers will start using the die before others. \\n3. Once you start using the Speed Die, roll it along with the two \\nwhite dice on your turn. Then do the following depending on \\nwhat you rolled. \\n1, 2, or 3: Add this number to the roll of the two white \\ndice. You\\'ll zoom around the board.'),\n",
       " Document(metadata={'producer': 'Adobe Acrobat 7.0 Paper Capture Plug-in', 'creator': 'Adobe Acrobat 7.0', 'creationdate': '2007-05-03T12:38:10-04:00', 'moddate': '2007-05-03T12:52:41-04:00', 'source': 'MonopolyRules.pdf', 'total_pages': 8, 'page': 1, 'page_label': '2'}, page_content='Bus: This lets you \"get off the bus early.\" Look at the two white \\ndice. You can move the value of one die, the other die, or the \\nsum of both dice. So if you rolled a 1 and a 5, you can move \\n1 space, 5 spaces, or 6 spaces: \\\\t\\'s your choice. \\nMr. Monopoly: First, move the sum of the two white dice \\nand resolve the space you land on (such as drawing a card, \\nbuying the property, paying rent, etc.). Then, one of two \\nthings will happen depending on whether or not there is still \\nproperty in the bank. \\nYES, there is property in the bank -Advance to the NEXT \\nproperty that the bank still holds and buy it if you wish. If you \\ndon\\'t want to buy this property, move to the space anyway \\nand put the property up for auction. \\nNO, there are no more properties in the bank - Advance to the \\nNOCT property on which you will owe another player money. \\nA few minor details: \\nOnly the white dice are used when determining if you rolled doubles. \\nDo not look at the Speed Die. \\nIf you roll a three-of-a-kind (all of the dice show the same number), \\nyou can move anywhere you want on the board! \\nIf you get sent to jail during your move (either by landing on the \"Go \\nto Jail\" space or by rolling doubles three times in a row) then your turn \\nis over and you do not get to use the Speed Die for that turn. \\nUse the white dice ONLY when rolling to get out of jail. \\nL \\nUse the sum of all three dice when determining how much to pay on \\na utility. Note: The Bus and Mr. Monopoly are valued at 0. \\nCLASSIC MONOPOW RULES \\nOBJECT: The object of the game IS to become the \\nwealthiest player through buying, renting and selling \\nproperty. \\nPREPARATION: Place the board on a table and put \\nthe Chance and Community Chest cards facedown on \\ntheir allotted spaces on the board. Each player chooses one token to \\nrepresent himther while traveling around the board.'),\n",
       " Document(metadata={'producer': 'Adobe Acrobat 7.0 Paper Capture Plug-in', 'creator': 'Adobe Acrobat 7.0', 'creationdate': '2007-05-03T12:38:10-04:00', 'moddate': '2007-05-03T12:52:41-04:00', 'source': 'MonopolyRules.pdf', 'total_pages': 8, 'page': 2, 'page_label': '3'}, page_content='Each player is given $1,500 divided as follows: P each of $500s, \\n$100~ and $50~; 6 $40~; 5 each of $105, $5~ and $Is. \\nAll remaining money and other equipment go to the Bank. Stack the .. \\nBank\\'s money on edge in the compartments in the plastic Banker\\'s tray. \\nBANKER. Select as Banker a player who will also \\nmake a good Auctioneer A Banker who plays \\n~n the game must keep hislher personal funds \\nseparate from those of the Bank. When more than \\nf~ve persons play, the Banker may elect to act only \\nas Banker and Auctioneer. \\nTHE BANK: Besides the Bank\\'s money, the Bank \\nholds the Title Deed cards and houses and hotels prior to purchase \\nand use by the players. The Bank pays salaries and bonuses. It sells \\nand auctions properties and hands out the~r proper Title Deed cards; \\nit sells houses and hotels to the players and loans money when \\nrequired on mortgages. \\nThe Bank collects all taxes, fines, loans and interest, and the price of \\nall properties which it sells and auctions. \\nThe Bank nwer \"goes broke.\" If the Bank runs out of money, the Banker \\nmay issue as much more as needed by writing on any ordinary paper. \\nTHE PLAY: Starting with the Banker, each player in turn throws the dice. \\nThe player with the highest total starts the play: Place your \\ntoken on the corner marked \"GO,\" throw the dice and move \\nyour token in the direction of the arrow the number of \\nspaces indicated by the dice. After you have completed \\nyour play, the turn passes to the left. The tokens remain \\non the spaces qccupied and proceed from that point on \\nthe player\\'s next turn. Two or more tokens may rest on the \\nsame space at the same time. \\nAccording to the space your token reaches, you may be entitled to \\nbuy real estate or other properties - or obliged to pay rent, pay taxes, \\ndraw a Chance or Community Chest card, \"Go to Jail,\" etc. \\nIf you throw doubles, you move your token as usual, the sum of the \\ntwo dice, and are subject to any privileges or penalties pertaining to \\nthe space on which you land. Retaining the dice, throw again and move \\nyour token as before. If you throw doubles three times in succession, \\nmove your token immediately to the space marked \"In Jail\" (see JAIL).'),\n",
       " Document(metadata={'producer': 'Adobe Acrobat 7.0 Paper Capture Plug-in', 'creator': 'Adobe Acrobat 7.0', 'creationdate': '2007-05-03T12:38:10-04:00', 'moddate': '2007-05-03T12:52:41-04:00', 'source': 'MonopolyRules.pdf', 'total_pages': 8, 'page': 3, 'page_label': '4'}, page_content='\"GO\": Each time a player\\'s token lands on or passes over \\nGO, whether by throwing the dice or drawing a card, \\nthe Banker pays himther a $200 sala,ry. \\nThe $200 is paid only once each time kound \\nthe board. However, if a player passing GO on \\nthe throw of the dice lands 2 spaces beyond it \\non Community Chest, or 7 spaces beyond \\nit on Chance, and draws the \"Advance to GO\" card, helshe collects \\n$200 for passing GO the first time and another $200 for reaching it the \\nsecond time by instructions on the card. \\nBUYING PROPERTY: Whenever you land on an unowned property you \\nmay buy that property from the Bank at its printed price. You receive the \\nTitle Deed card showing ownership; place it faceup in front of you. \\nIf you do not wish to buy the property, the Banker sells it at auction \\nto the highest bidder. The buyer pays the Bank the amount of the bid \\nin cash and receives the Title Deed card for that property. Any player, \\nincluding the one who declined the option to buy it at the printed \\nprice, may bid. Bidding may start at any price. \\nPAMNG \\n When you land on property owned by another player, \\nthe owner collects rent from you in accordance with the list printed on \\nits Title Deed card. \\nIf the property is mortgaged, no rent can be collected. When a \\nproperty is mortgaged, its Title Deed card is placed facedown in front \\nof the owner. \\n L \\nIt is an advantage to hold all the Title Deed cards in a color- \\ngroup (e.g., Boardwalk and Park Place; or Connecticut, Vermont and \\nOriental Avenues) because the owner may then charge double rent \\nfor unimproved properties in that color-group. This rule applies to \\nunmortgaged properties even if another property in that color-group is \\nmortgaged. \\nIt is even more advantageous to have houses or hotels on properties \\nbecause rents are much higher than for unimproved properties. \\nThe owner may not collect the rent if he/she fails to ask for it before \\nthe second player following throws the dice. \\n\"CHANCE\" AND \"COMMUNITY CHEST\": When you land on either of \\nthese spaces, take the top card from the deck indicated, follow the'),\n",
       " Document(metadata={'producer': 'Adobe Acrobat 7.0 Paper Capture Plug-in', 'creator': 'Adobe Acrobat 7.0', 'creationdate': '2007-05-03T12:38:10-04:00', 'moddate': '2007-05-03T12:52:41-04:00', 'source': 'MonopolyRules.pdf', 'total_pages': 8, 'page': 4, 'page_label': '5'}, page_content='instructions and return the card facedown to the bottom of the deck. \\nThe \"Get Out of Jail Free\" card is held until used and then returned to \\nthe bottom of the deck. If the player who draws it does not wish to use \\nit, helshe may sell it, at any time, to another player at a price agreeable \\nto both. \\n\"INCOME TAX\": If you land here you have two options: You may \\nestimate your tax at $900 and pay the Bank, or you may pay 10% of \\nyour total worth to the Bank. Your total worth is all your cash on hand, \\nprinted prices of mortgaged and unmortgaged properties and cost \\nprice of all buildings you own. \\nYou must decide which option you will take before you add up \\nyour total worth. \\n\"JAIL\": You land in Jail when. ..(I) your token lands on the space \\nmarked \"Go to Jail\"; (2) you draw a card marked \"Go to JailN; or \\n(3) you throw doubles three times in succession. \\nWhen you are sent to Jail you cannot \\ncollect your $200 salary in that move \\nsince, regardless of where your token \\nis on the board, you must move it \\ndirectly into Jail. Your turn ends when \\nyou are sent to Jail. \\nIf you are not \"sent\" to Jail but in the ordinary course of play land on \\nthat space, you are \"Just Visiting,\" you incur no penalty, and you move \\nahead in the usual manner on your next turn. \\nYou get out of Jail by.. .(I) throwing doubles on any of your next \\nthree turns; if you succeed in doing this you immediately move forward \\nthe number of spaces shown by your doubles throw; even though you \\nhad thrown doubles, you do not take another turn; (2) using the \"Get \\nOut of Jail Free\" card if you have it; (3) purchasing the \"Get Out of Jail \\nFree\" card from another player and playing it; (4) paying a fine of $50 \\nbefore you roll the dice on either of your next two turns. \\nIf you do not throw doubles by your third turn, you must pay the $50 \\nfine. You then get out of Jail and immediately move forward the number \\nof spaces shown by your throw. \\nEven though you are in Jail, you may buy and sell property, buy and \\nsell houses and hotels and collect rents.'),\n",
       " Document(metadata={'producer': 'Adobe Acrobat 7.0 Paper Capture Plug-in', 'creator': 'Adobe Acrobat 7.0', 'creationdate': '2007-05-03T12:38:10-04:00', 'moddate': '2007-05-03T12:52:41-04:00', 'source': 'MonopolyRules.pdf', 'total_pages': 8, 'page': 5, 'page_label': '6'}, page_content='\"FREE PARKING\": A player landing on this place does not \\nreceive any money, property or reward of any kind. This is just a \"free\" \\nresting place. \\nHOUSES: When you own all the propert~es in a color-group \\nyou may buy houses from the Bank and erect them on those properties. \\nIf you buy one house, you may put it on any \\none of those properties. The next house you \\nbuy must be erected on one of the unimproved \\nproperties of this or any other complete color- \\ngroup you may own. \\nThe price you must pay the Bank for each \\nhouse is shown on your ltle Deed card for the \\nproperty on which you erect the house. \\nThe owner still collects double rent from an opponent who lands on \\nthe unimproved properties of hisher complete color-group. \\nFollowing the above rules, you may buy and erect at any time as \\nmany houses as your judgement and financial standing will allow. But \\nyou must build evenly, i.e., you cannot erect more than one house on \\nany one property of any color-group until you have built one house on \\nwery property of that group. You may then begin on the second row \\nof houses, and so on, up to a limit of four houses to a property. For \\nexample, you cannot build three houses on one property if you have \\nonly one house on another property of that group. \\nAs you build evenly, you must also break down evenly ifyou sell \\nhouses back to the Bank (see SELLING PROPERTY). \\nHOTELS: When a player has four houses on each property of a \\ncomplete color-group, hdshe may buy a hotel from the Bank and erect \\nit on any property of the color-group. Hdshe returns the four houses \\nfrom that property to the Bank and pays the price for the hotel as shown \\non the Ttle Deed card. Only one hotel may be erected on any one \\nproperty. \\nBUILDING SHORTAGES: When the Bank has no houses to sell, players \\nwishing to build must wait for some player to return or sell histher \\nhouses to the Bank before building. If there are a limited number of \\nhouses and hotels available and two or more players wish to buy more \\nthan the Bank has, the houses or hotels must be sold at auction to the \\nhighest bidder.'),\n",
       " Document(metadata={'producer': 'Adobe Acrobat 7.0 Paper Capture Plug-in', 'creator': 'Adobe Acrobat 7.0', 'creationdate': '2007-05-03T12:38:10-04:00', 'moddate': '2007-05-03T12:52:41-04:00', 'source': 'MonopolyRules.pdf', 'total_pages': 8, 'page': 6, 'page_label': '7'}, page_content='SELLING PROPERN: Unimproved properties, railroads and util~ties \\n(but not buildings) may be sold to any player as a private transaction \\nfor any amount the owner can get; however, no property can be sold to \\n- \\nanother player if buildings are standing on any properties of that color- \\ngroup. Any buildings so located must be sold back to the Bank before \\nthe owner can sell any property of that color-group. \\nHouses and hotels may be sold back to the Bank at any time for one- \\nhalf the price paid for them. \\nAll houses on one color-group must be sold one by one, evenly, in \\nreverse of the manner in which they were erected. \\nAll hotels on one color-group may be sold at once, or they may be \\nsold one house at a time (one hotel equals five houses), evenly, in \\nreverse of the manner in which they were erected. \\nMORTGAGES: Unimproved properties can be mortgaged through the \\nBank at any time. Before an improved property can be mortgaged, all \\nthe buildings on all the properties of its color-group must be sold back \\nto the Bank at half price. The mortgage value is printed on each Title \\nDeed card. \\nNo rent can be collected on mortgaged properties or utilities, \\nbut rent can be collected on unmortgaged properties in the \\nsame group. \\nIn order to lift the mortgage, the owner must pay the Bank the \\namount of the mortgage plus 10% interest. When all the propert~es of \\na color-group are no longer mortgaged, the owner may begin to buy \\nback houses at full price. \\nThe player who mortgages property retains possession of it and \\nno other player may secure it by lifting the mortgage from the Bank. \\nHowever, the owner may sell this mortgaged property to another player \\nat any agreed price. If you are the new owner, you may lift the mortgage \\nat once if you wish by paying off the mortgage plus \\n10% interest to the Bank. If the mortgage is not lifted \\nat once, you must pay the Bank 10% interest when \\nyou buy the property and if you lift the \\nmortgage later you must pay the Bank \\nan additional 10% interest as well \\nas the amount of the mortgage. \\nn'),\n",
       " Document(metadata={'producer': 'Adobe Acrobat 7.0 Paper Capture Plug-in', 'creator': 'Adobe Acrobat 7.0', 'creationdate': '2007-05-03T12:38:10-04:00', 'moddate': '2007-05-03T12:52:41-04:00', 'source': 'MonopolyRules.pdf', 'total_pages': 8, 'page': 7, 'page_label': '8'}, page_content='BANKRUPTCY.. You are declared bankrupt if you owe more than you \\ncan pay either to another player or to the Bank. If your \\n , \\ndebt is to another player, you must tum over to that \\nplayer all that you have of value and retire from the \\ngame. In making this settlement, if you own houses or \\nhotels, you must retum these to the Bank in exchange \\nfor money to the extent of one-half the amount paid \\nfor them; this cash is given to the creditor. If you have \\nmortgaged property you also turn this property over \\nto your creditor but the new owner must at once pay . \\nthe Bank the amount of interest on the loan, which is 10% of the value of \\nthe property. The new owner who does this may then, at hislher option, \\npay the principal or hold the property until some later turn, then lift the \\nmortgage. If helshe holds property in this way until a later turn, helshe \\nmust pay the interest again upon lifting the mortgage. \\nShould you owe the Bank, instead of another player, more than you \\ncan pay (because of taxes or penalties) even by selling off buildings \\nand mortgaging property, you must turn over all assets to the Bank. In \\nthis case, the Bank immediately sells by auction all property so taken, \\nexcept buildings. A bankrupt player must immediately retire from the \\ngame. The last player left in the game wins. \\nMISCEUANEOUS: Money can be loaned to a player only by the Bank \\nand then only by mortgaging property. No player may borrow from or \\nlend money to another player. \\n L \\nWe will be happy to hear your questions or comments about this game. Write to: Hasbro \\nGames, Consumer Affairs Dept., P.O. Box 200, Pawtucket, RI 02862. Tel: 888-836-7025 \\n(toll free). Canadian consumers please write to: Hasbro Canada Corporation, 2350 de la \\nProvince, Longueuil, QC Canada, J4G 1G2. \\nThe HASBRO, PARKER BROTHERS, and MONOPOLY names and logos, the distinctive design of \\nthe gameboard, the four comer squares, the MR. MONOPOLY name and character, and each of the \\ndistinctive elements of the board and rules are trademarks of Hasbro for its property trading game \\nand game equipment. 02004,2007 Hasbro, Pawtucket, RI 02862. \\nAll Rights Reserved. TM & @3 denote U.S. Trademarks. \\n00009-1 \\n PROOF OF PURCHASE I')]"
      ]
     },
     "execution_count": 25,
     "metadata": {},
     "output_type": "execute_result"
    }
   ],
   "source": [
    "from langchain_community.document_loaders import PyPDFLoader\n",
    "\n",
    "loader = PyPDFLoader(\"MonopolyRules.pdf\")\n",
    "pages = loader.load_and_split()\n",
    "pages"
   ]
  },
  {
   "cell_type": "code",
   "execution_count": 23,
   "metadata": {},
   "outputs": [
    {
     "name": "stdout",
     "output_type": "stream",
     "text": [
      "\n",
      "Answer the question based on the context below. If you can't \n",
      "answer the question, reply \"I don't know\".\n",
      "\n",
      "Context: Here is some context\n",
      "\n",
      "Question: Here is a question\n",
      "\n"
     ]
    }
   ],
   "source": [
    "from langchain.prompts import PromptTemplate\n",
    "\n",
    "template = \"\"\"\n",
    "Answer the question based on the context below. If you can't \n",
    "answer the question, reply \"I don't know\".\n",
    "\n",
    "Context: {context}\n",
    "\n",
    "Question: {question}\n",
    "\"\"\"\n",
    "\n",
    "prompt = PromptTemplate.from_template(template)\n",
    "print(prompt.format(context=\"Here is some context\", question=\"Here is a question\"))"
   ]
  },
  {
   "cell_type": "code",
   "execution_count": 31,
   "metadata": {},
   "outputs": [
    {
     "name": "stderr",
     "output_type": "stream",
     "text": [
      "C:\\Users\\ipriv\\AppData\\Local\\Temp\\ipykernel_25048\\3579950017.py:2: PydanticDeprecatedSince20: The `schema` method is deprecated; use `model_json_schema` instead. Deprecated in Pydantic V2.0 to be removed in V3.0. See Pydantic V2 Migration Guide at https://errors.pydantic.dev/2.10/migration/\n",
      "  chain.input_schema.schema()\n"
     ]
    },
    {
     "name": "stdout",
     "output_type": "stream",
     "text": [
      "Unfortunately, the text provided doesn't mention how much money you start with in the game of Monopoly. It only provides general information about the rules and gameplay of Monopoly. If you're looking for specific details about your starting balance, I recommend checking the instructions or box insert that came with your copy of the game, as this information is typically included there.\n"
     ]
    }
   ],
   "source": [
    "chain = prompt | model\n",
    "chain.input_schema.schema()\n",
    "print(chain.invoke({\"context\": pages, \"question\": \"How much money do i start with?\"}))"
   ]
  },
  {
   "cell_type": "code",
   "execution_count": 34,
   "metadata": {},
   "outputs": [
    {
     "name": "stderr",
     "output_type": "stream",
     "text": [
      "C:\\Users\\ipriv\\AppData\\Local\\Temp\\ipykernel_25048\\1072085070.py:2: PydanticDeprecatedSince20: The `schema` method is deprecated; use `model_json_schema` instead. Deprecated in Pydantic V2.0 to be removed in V3.0. See Pydantic V2 Migration Guide at https://errors.pydantic.dev/2.10/migration/\n",
      "  chain.input_schema.schema()\n"
     ]
    },
    {
     "name": "stdout",
     "output_type": "stream",
     "text": [
      "According to the rules, to build a hotel, you would need to follow these steps:\n",
      "\n",
      "1. Own all the properties in a color group.\n",
      "2. Build houses on all those properties.\n",
      "3. Once you have built houses on all the properties, you can build hotels.\n",
      "\n",
      "Note that building hotels is not mentioned as an action that can be taken immediately after acquiring a property or when rolling certain numbers on the dice. Instead, it appears to be a step that occurs after a player has invested in houses on all the properties within a color group.\n"
     ]
    }
   ],
   "source": [
    "chain = prompt | model\n",
    "chain.input_schema.schema()\n",
    "print(chain.invoke({\"context\": pages, \"question\": \"How do i build a hotel?\"}))"
   ]
  }
 ],
 "metadata": {
  "kernelspec": {
   "display_name": ".venv",
   "language": "python",
   "name": "python3"
  },
  "language_info": {
   "codemirror_mode": {
    "name": "ipython",
    "version": 3
   },
   "file_extension": ".py",
   "mimetype": "text/x-python",
   "name": "python",
   "nbconvert_exporter": "python",
   "pygments_lexer": "ipython3",
   "version": "3.12.6"
  }
 },
 "nbformat": 4,
 "nbformat_minor": 2
}
